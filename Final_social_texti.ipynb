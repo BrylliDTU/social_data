{
 "cells": [
  {
   "cell_type": "markdown",
   "metadata": {},
   "source": [
    "# Fans in the NFL\n",
    "\n",
    "## Introduction\n",
    "\n",
    "American football is the biggest sport in the United States of America, with the National Football League(NFL) being the big stage where 32 teams compete each season to win the much coveted Superbowl. \n",
    "\n",
    "The anatomy of the NFL can be quite confusing for those not familiar with how it works. \n",
    "The 32 teams are split into two conferences - the American Football Conference (AFC) and the National Football Conference (NFC). The 16 teams in each conference are split into 4 divisions; East, North, South and West divisions, with all divisions having 4 teams.\n",
    "Each regular season spans 18 weeks and each team plays 17 games over those weeks. Those 17 games consist of 6 games against divisional opponents, 4 games against teams from a division within its conference, 4 games against teams from a division in the other conference and 2 games against teams from the two remaining divisions in its conference. Then each team plays an additional game against a non-conference team that they are not scheduled to play.(1)\n",
    "\n",
    "\n",
    "All this information can be quite overwhelming for a new NFL viewer and when it comes to picking a team to support there are a lot of options to pick from. Some people have a favorite player and root for the team that said player plays for and some people root for their local team, or the team from their respective state or city.\n",
    "However, the audience outside of the USA often has no such ties to any teams in the NFL and would therefore rather support a team that has been doing good over the last few years or maybe a team that has been successful in the past.\n",
    "We want to analyze the performance of all 32 teams for the last 20 seasons to potentially give a new NFL-fan an idea of what team to support.\n",
    "\n"
   ]
  },
  {
   "cell_type": "markdown",
   "metadata": {},
   "source": [
    "## Historical data / Team data\n",
    "\n",
    "As it is in most sports leagues, some teams have been more successful than others in the NFL. \n",
    "\n",
    "Kannski setja interactive visual sem sýnir sigurhlutfall/placement/fjölda sigra eða eitthvað sniðugt hér idk\n",
    "\n",
    "QB og coach data ef við gerum eitthvað svoleiðis\n"
   ]
  },
  {
   "cell_type": "markdown",
   "metadata": {},
   "source": [
    "## Fans and stadiums\n",
    "\n",
    "\n",
    "When picking which team to support it could be reassuring to see that the fanbase of the team has its back trough thick and thin. \n",
    "\n",
    "setja kannski stadium map viz eða attendance hér"
   ]
  },
  {
   "cell_type": "markdown",
   "metadata": {},
   "source": [
    "## Suggestions\n",
    "\n",
    "if you want to support an up and coming team we would suggest rooting for ......\n",
    "\n",
    "if you are more inclined to support a more established team"
   ]
  },
  {
   "cell_type": "markdown",
   "metadata": {},
   "source": [
    "## References\n",
    "\n",
    "(1) https://operations.nfl.com/gameday/nfl-schedule/creating-the-nfl-schedule/#:~:text=THE%20ANATOMY%20OF%20THE%20NFL%20SCHEDULE&text=Every%20team%20will%20play%2017,games%20in%20the%202023%20season. \n",
    "sótt 1.5.2024\n"
   ]
  }
 ],
 "metadata": {
  "language_info": {
   "name": "python"
  }
 },
 "nbformat": 4,
 "nbformat_minor": 2
}
