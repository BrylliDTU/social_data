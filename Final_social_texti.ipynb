{
 "cells": [
  {
   "cell_type": "markdown",
   "metadata": {},
   "source": [
    "## Fans in the NFL\n",
    "\n",
    "American football is the biggest sport in the United States of America, with the National Football League(NFL) being the big stage where 32 teams compete each season to win the much coveted Superbowl. \n",
    "\n",
    "The anatomy of the NFL can be quite confusing for those not familiar with how it works. \n",
    "The 32 teams are split into two conferences - the American Football Conference (AFC) and the National Football Conference (NFC). The 16 teams in each conference are split into 4 divisions; East, North, South and West divisions, with all divisions having 4 teams.\n",
    "Each regular season spans 18 weeks and each team plays 17 games over those weeks. Those 17 games consist of 6 games against divisional opponents, 4 games against teams from a division within its conference, 4 games against teams from a division in the other conference and 2 games against teams from the two remaining divisions in its conference. Then each team plays an additional game against a non-conference team that they are not scheduled to play.\n",
    "\n",
    "\n",
    "All this information can be quite overwhelming for a new NFL viewer. \n",
    "\n",
    "\n",
    "\n",
    "(1) https://operations.nfl.com/gameday/nfl-schedule/creating-the-nfl-schedule/#:~:text=THE%20ANATOMY%20OF%20THE%20NFL%20SCHEDULE&text=Every%20team%20will%20play%2017,games%20in%20the%202023%20season. \n",
    "sótt 1.5.2024\n",
    "\n"
   ]
  },
  {
   "cell_type": "markdown",
   "metadata": {},
   "source": [
    "## Introduction\n",
    "\n"
   ]
  }
 ],
 "metadata": {
  "language_info": {
   "name": "python"
  }
 },
 "nbformat": 4,
 "nbformat_minor": 2
}
