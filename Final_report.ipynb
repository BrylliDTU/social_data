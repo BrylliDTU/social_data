{
 "cells": [
  {
   "cell_type": "markdown",
   "metadata": {},
   "source": [
    "# TITILL\n",
    "**02806 Social Data Visualization**\n",
    "\n",
    "**Group numher:** 36\n",
    "\n",
    "**Group members:** \n",
    "- Birkir Fanndal Sturluson s232729 \n",
    "- Brynjar Karl Ævarsson s232736 \n",
    "- Védís Sigríður Ingvarsdóttir s232719 \n",
    "\n",
    "___"
   ]
  },
  {
   "cell_type": "markdown",
   "metadata": {},
   "source": [
    "# Table of Contents\n",
    "* [Motivation](#motivation)\n",
    "\n",
    "* [Basic stats](#basic)\n",
    "\n",
    "* [Data analysis](#data_analysis)\n",
    "    * [Data cleaning](#cleaning)\n",
    "    * [Data info](#data_info)\n",
    "\n",
    "* [Genre](#genre)\n",
    "\n",
    "* [Visualizations](#visualizations)\n",
    "    * [Stadiums](#stadiums)\n",
    "\n",
    "* [Discussion](#discuss)\n",
    "* [Contributions](#contribute)\n",
    "\n",
    "\n",
    "\n",
    "\n",
    "___"
   ]
  },
  {
   "cell_type": "markdown",
   "metadata": {},
   "source": [
    "<a id=\"motivation\"></a> <br>\n",
    "## Motivation"
   ]
  },
  {
   "cell_type": "markdown",
   "metadata": {},
   "source": [
    "<a id=\"genre\"></a> <br>\n",
    "## Genre\n",
    "\n",
    "Genre. Which genre of data story did you use?\n",
    "\n",
    "* For this project, we decided to choose the magazine style as our presentation genre for the storytelling and data visualization. There are several factors that play into this decision. Firstly, we believe that the magazine style provides readers with efficiency when reading our project, as well as visually appealing images. The magazine style genre offers opportunities to present complex and diverse visualizations in a simpler way, which influences audience engagement and clarity. \n",
    "\n",
    "Which tools did you use from each of the 3 categories of Visual Narrative (Figure 7 in Segal and Heer). Why?\n",
    "\n",
    "* We used the following tools from the categories of Visual Narrative:\n",
    "    * Visual Structuring: \n",
    "    * Highlighting:\n",
    "    * Transition Guidance: \n",
    "\n",
    "\n",
    "Which tools did you use from each of the 3 categories of Narrative Structure (Figure 7 in Segal and Heer). Why?\n",
    "\n",
    "* We used the following tools from the categories of Narratuve Structure:\n",
    "    * Ordering: \n",
    "    * Interactivity:\n",
    "    * Messaging: \n",
    "    "
   ]
  }
 ],
 "metadata": {
  "language_info": {
   "name": "python"
  }
 },
 "nbformat": 4,
 "nbformat_minor": 2
}
