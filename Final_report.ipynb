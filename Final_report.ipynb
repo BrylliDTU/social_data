{
 "cells": [
  {
   "cell_type": "markdown",
   "metadata": {},
   "source": [
    "# TITILL\n",
    "**02806 Social Data Visualization**\n",
    "\n",
    "**Group numher:** 36\n",
    "\n",
    "**Group members:** \n",
    "- Birkir Fanndal Sturluson s232729 \n",
    "- Brynjar Karl Ævarsson s232736 \n",
    "- Védís Sigríður Ingvarsdóttir s232719 \n",
    "\n",
    "___"
   ]
  },
  {
   "cell_type": "markdown",
   "metadata": {},
   "source": [
    "# Table of Contents\n",
    "* [Motivation](#motivation)\n",
    "\n",
    "* [Basic stats](#basic)\n",
    "    * [Data cleaning](#cleaning)\n",
    "\n",
    "* [Data analysis](#data_analysis)\n",
    "    * [Data info](#data_info)\n",
    "\n",
    "* [Genre](#genre)\n",
    "\n",
    "* [Visualizations](#visualizations)\n",
    "    * [Stadiums](#stadiums)\n",
    "\n",
    "* [Discussion](#discuss)\n",
    "* [Contributions](#contribute)\n",
    "\n",
    "\n",
    "\n",
    "\n",
    "___"
   ]
  },
  {
   "cell_type": "code",
   "execution_count": null,
   "metadata": {},
   "outputs": [],
   "source": [
    "import pandas as pd\n",
    "import matplotlib.pyplot as plt\n",
    "import matplotlib.dates as mdates\n",
    "import plotly.express as px\n",
    "import seaborn as sns\n",
    "import numpy as np\n",
    "plt.style.use('seaborn-v0_8-bright')\n",
    "import calplot\n",
    "import folium\n",
    "from bokeh.plotting import figure, show, output_notebook\n",
    "from bokeh.models import ColumnDataSource\n",
    "from bokeh.layouts import gridplot\n",
    "from bokeh.palettes import Category20\n",
    "from bokeh.io import reset_output\n",
    "\n"
   ]
  },
  {
   "cell_type": "markdown",
   "metadata": {},
   "source": [
    "<a id=\"motivation\"></a> <br>\n",
    "# Motivation"
   ]
  },
  {
   "cell_type": "code",
   "execution_count": null,
   "metadata": {},
   "outputs": [],
   "source": [
    "# Coordinates for NFL teams\n",
    "stadium_coordinates = pd.read_csv(\"DatasetNew/NFL_stadium_coordinates.csv\")\n",
    "\n",
    "# Attendance at each game from 2000 to 2019\n",
    "game_attendance = pd.read_csv(\"DatasetNew/NFL_Attendance_2000_2019.csv\")\n",
    "\n",
    "# Information about each game from 1999 to 2023\n",
    "games = pd.read_csv(\"DatasetNew/games.csv\")"
   ]
  },
  {
   "cell_type": "markdown",
   "metadata": {},
   "source": [
    "<a id=\"basic\"></a> <br>\n",
    "# Basic stats"
   ]
  },
  {
   "cell_type": "markdown",
   "metadata": {},
   "source": [
    "<a id=\"cleaning\"></a> <br>\n",
    "### Data cleaning"
   ]
  },
  {
   "cell_type": "markdown",
   "metadata": {},
   "source": [
    "Firstly, we want to define the team abbrivations and connect them to the right team name"
   ]
  },
  {
   "cell_type": "code",
   "execution_count": null,
   "metadata": {},
   "outputs": [],
   "source": [
    "team_abbr = {\n",
    "    'Cardinals': 'ARI',\n",
    "    'Falcons': 'ATL',\n",
    "    'Ravens': 'BAL',\n",
    "    'Bills': 'BUF',\n",
    "    'Panthers': 'CAR',\n",
    "    'Bears': 'CHI',\n",
    "    'Bengals': 'CIN',\n",
    "    'Browns': 'CLE',\n",
    "    'Cowboys': 'DAL',\n",
    "    'Broncos': 'DEN',\n",
    "    'Lions': 'DET',\n",
    "    'Packers': 'GB',\n",
    "    'Texans': 'HOU',\n",
    "    'Colts': 'IND',\n",
    "    'Jaguars': 'JAX',\n",
    "    'Chiefs': 'KC',\n",
    "    'Raiders': 'OAK',\n",
    "    'Chargers': 'LAC',\n",
    "    'Rams': 'LA',\n",
    "    'Dolphins': 'MIA',\n",
    "    'Vikings': 'MIN',\n",
    "    'Patriots': 'NE',\n",
    "    'Saints': 'NO',\n",
    "    'Giants': 'NYG',\n",
    "    'Jets': 'NYJ',\n",
    "    'Eagles': 'PHI',\n",
    "    'Steelers': 'PIT',\n",
    "    '49ers': 'SF',\n",
    "    'Seahawks': 'SEA',\n",
    "    'Buccaneers': 'TB',\n",
    "    'Titans': 'TEN',\n",
    "    'Redskins': 'WAS'\n",
    "}\n",
    "\n",
    "# Extract the last name from team names\n",
    "game_attendance['last_name'] = game_attendance['team_name'].apply(lambda x: x.split()[-1])\n",
    "\n",
    "# Map team names to abbreviations\n",
    "team_abbr_map = {team: team_abbr[team] for team in game_attendance['last_name'].unique()}\n",
    "\n",
    "# Create a new column with abbreviations\n",
    "game_attendance['team_abbr'] = game_attendance['last_name'].map(team_abbr_map)\n"
   ]
  },
  {
   "cell_type": "code",
   "execution_count": null,
   "metadata": {},
   "outputs": [],
   "source": [
    "stadium_coordinates[\"Team\"] = stadium_coordinates[\"Team\"].replace('Forty-Niners', '49ers')\n",
    "\n",
    "stadium_coordinates['team_abbr'] = stadium_coordinates['Team'].map(team_abbr)\n",
    "\n",
    "games[\"gameday\"] = pd.to_datetime(games['gameday'])\n",
    "games['year'] = games['gameday'].dt.year\n",
    "\n",
    "\n",
    "# Filter games for the years 2000 to 2019\n",
    "game_score_filtered = games[(games['year'] >= 2000) & (games['year'] <= 2019)]\n",
    "\n",
    "# Filter game_attendance for the years 2000 to 2019\n",
    "team_data_filtered = game_attendance[(game_attendance['year'] >= 2000) & (game_attendance['year'] <= 2019)]\n",
    "\n",
    "# Convert 'week' column to int type for consistency\n",
    "game_score_filtered['week'] = game_score_filtered['week'].astype(int)\n",
    "\n",
    "# Merge the filtered datasets on team abbreviation, week, and year\n",
    "merged_data = pd.merge(game_score_filtered, team_data_filtered, left_on=['home_team', 'week', 'year'], right_on=['team_abbr', 'week', 'year'], how='inner')\n",
    "\n",
    "# Merge the stadium coordinates\n",
    "final_data = pd.merge(merged_data, stadium_coordinates, left_on=['team_abbr'], right_on=[\"team_abbr\"], how='inner')"
   ]
  },
  {
   "cell_type": "code",
   "execution_count": null,
   "metadata": {},
   "outputs": [],
   "source": [
    "result = final_data[[\"game_id\",\"season\",\"week\",\"gameday\",\"weekday\",\"wind\",\"temp\",\"home_team\",\"away_team\",\"home_score\",\"away_score\",\"stadium\", \"team\",\"team_name\",\"weekly_attendance\",\"last_name\",\"team_abbr\",\"Team\",\"longitude\",\"latitude\"]]"
   ]
  },
  {
   "cell_type": "code",
   "execution_count": null,
   "metadata": {},
   "outputs": [],
   "source": [
    "# Create a new column to indicate the winning team\n",
    "result['winning_team'] = result.apply(lambda row: row['home_team'] if row['home_score'] > row['away_score'] else row['away_team'], axis=1)\n",
    "\n",
    "# Create a new column 'home_team_win'\n",
    "result['home_team_win'] = result['home_team'] == result['winning_team']"
   ]
  },
  {
   "cell_type": "code",
   "execution_count": null,
   "metadata": {},
   "outputs": [],
   "source": [
    "# Convert 'season' column to datetime format\n",
    "result['season'] = pd.to_datetime(result['season'], format='%Y')\n",
    "# Extract the year component\n",
    "result['season'] = result['season'].dt.year\n",
    "\n",
    "# Filter out rows where 'season' column equals 1999\n",
    "result = result[result['season'] != 1999]"
   ]
  },
  {
   "cell_type": "code",
   "execution_count": null,
   "metadata": {},
   "outputs": [],
   "source": [
    "# SD and LAC THE SAME team\n",
    "team_mapping = {\n",
    "    'SD': 'LAC',\n",
    "    # Add other mappings as necessary\n",
    "}\n",
    "\n",
    "# STL Land LA THE SAME team\n",
    "team_mapping2 = {\n",
    "    'STL': 'LA',\n",
    "    # Add other mappings as necessary\n",
    "}"
   ]
  },
  {
   "cell_type": "code",
   "execution_count": 1,
   "metadata": {},
   "outputs": [
    {
     "ename": "NameError",
     "evalue": "name 'result' is not defined",
     "output_type": "error",
     "traceback": [
      "\u001b[0;31m---------------------------------------------------------------------------\u001b[0m",
      "\u001b[0;31mNameError\u001b[0m                                 Traceback (most recent call last)",
      "Cell \u001b[0;32mIn[1], line 1\u001b[0m\n\u001b[0;32m----> 1\u001b[0m result[\u001b[38;5;124m'\u001b[39m\u001b[38;5;124mhome_team\u001b[39m\u001b[38;5;124m'\u001b[39m] \u001b[38;5;241m=\u001b[39m result[\u001b[38;5;124m'\u001b[39m\u001b[38;5;124mhome_team\u001b[39m\u001b[38;5;124m'\u001b[39m]\u001b[38;5;241m.\u001b[39mreplace(team_mapping)\n\u001b[1;32m      2\u001b[0m result[\u001b[38;5;124m'\u001b[39m\u001b[38;5;124maway_team\u001b[39m\u001b[38;5;124m'\u001b[39m] \u001b[38;5;241m=\u001b[39m result[\u001b[38;5;124m'\u001b[39m\u001b[38;5;124maway_team\u001b[39m\u001b[38;5;124m'\u001b[39m]\u001b[38;5;241m.\u001b[39mreplace(team_mapping)\n",
      "\u001b[0;31mNameError\u001b[0m: name 'result' is not defined"
     ]
    }
   ],
   "source": [
    "result['home_team'] = result['home_team'].replace(team_mapping)\n",
    "result['away_team'] = result['away_team'].replace(team_mapping)\n",
    "\n",
    "result['home_team'] = result['home_team'].replace(team_mapping2)\n",
    "result['away_team'] = result['away_team'].replace(team_mapping2)\n",
    "\n",
    "result['team_abbr'] = result['team_abbr'].replace(team_mapping)\n",
    "result['team_abbr'] = result['team_abbr'].replace(team_mapping2)"
   ]
  },
  {
   "cell_type": "code",
   "execution_count": null,
   "metadata": {},
   "outputs": [],
   "source": [
    "# Assuming your DataFrame is named result\n",
    "# Creating a new column 'stadium_name' that combines team abbreviation and 'Stadium' for each stadium name\n",
    "result['stadium_name'] = result['team_abbr'] + ' Stadium'\n",
    "\n",
    "# Renaming the stadium name for shared location of NYG/NYJ\n",
    "result.loc[result['team_abbr'].isin(['NYG', 'NYJ']), 'stadium_name'] = 'NYG/NYJ Stadium'\n",
    "\n",
    "# Dropping the original 'stadium' column\n",
    "result.drop(columns=['stadium'], inplace=True)\n",
    "\n",
    "# Displaying the updated DataFrame\n",
    "result"
   ]
  },
  {
   "cell_type": "markdown",
   "metadata": {},
   "source": [
    "<a id=\"data_analysis\"></a> <br>\n",
    "# Data analysis"
   ]
  },
  {
   "cell_type": "code",
   "execution_count": null,
   "metadata": {},
   "outputs": [],
   "source": [
    "result.info()"
   ]
  },
  {
   "cell_type": "code",
   "execution_count": null,
   "metadata": {},
   "outputs": [],
   "source": [
    "result.describe()"
   ]
  },
  {
   "cell_type": "markdown",
   "metadata": {},
   "source": [
    "<a id=\"genre\"></a> <br>\n",
    "# Genre\n",
    "\n",
    "Genre. Which genre of data story did you use?\n",
    "\n",
    "* For this project, we decided to choose the magazine style as our presentation genre for the storytelling and data visualization. There are several factors that play into this decision. Firstly, we believe that the magazine style provides readers with efficiency when reading our project, as well as visually appealing images. The magazine style genre offers opportunities to present complex and diverse visualizations in a simpler way, which influences audience engagement and clarity. \n",
    "\n",
    "Which tools did you use from each of the 3 categories of Visual Narrative (Figure 7 in Segal and Heer). Why?\n",
    "\n",
    "* We used the following tools from the categories of Visual Narrative:\n",
    "    * Visual Structuring: \n",
    "    * Highlighting:\n",
    "    * Transition Guidance: \n",
    "\n",
    "\n",
    "Which tools did you use from each of the 3 categories of Narrative Structure (Figure 7 in Segal and Heer). Why?\n",
    "\n",
    "* We used the following tools from the categories of Narratuve Structure:\n",
    "    * Ordering: \n",
    "    * Interactivity:\n",
    "    * Messaging: \n",
    "    "
   ]
  }
 ],
 "metadata": {
  "kernelspec": {
   "display_name": "base",
   "language": "python",
   "name": "python3"
  },
  "language_info": {
   "codemirror_mode": {
    "name": "ipython",
    "version": 3
   },
   "file_extension": ".py",
   "mimetype": "text/x-python",
   "name": "python",
   "nbconvert_exporter": "python",
   "pygments_lexer": "ipython3",
   "version": "3.11.4"
  }
 },
 "nbformat": 4,
 "nbformat_minor": 2
}
