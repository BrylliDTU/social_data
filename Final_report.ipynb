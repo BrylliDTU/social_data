{
 "cells": [
  {
   "cell_type": "markdown",
   "metadata": {},
   "source": [
    "# TITILL\n",
    "**02806 Social Data Visualization**\n",
    "\n",
    "**Group numher:** 36\n",
    "\n",
    "**Group members:** \n",
    "- Birkir Fanndal Sturluson s232729 \n",
    "- Brynjar Karl Ævarsson s232736 \n",
    "- Védís Sigríður Ingvarsdóttir s232719 \n",
    "\n",
    "___"
   ]
  },
  {
   "cell_type": "markdown",
   "metadata": {},
   "source": [
    "# Table of Contents\n",
    "* [Motivation](#motivation)\n",
    "\n",
    "* [Basic stats](#basic)\n",
    "\n",
    "* [Data analysis](#data_analysis)\n",
    "    * [Data cleaning](#cleaning)\n",
    "    * [Data info](#data_info)\n",
    "\n",
    "* [Genre](#genre)\n",
    "\n",
    "* [Visualizations](#visualizations)\n",
    "    * [Stadiums](#stadiums)\n",
    "\n",
    "* [Discussion](#discuss)\n",
    "* [Contributions](#contribute)\n",
    "\n",
    "\n",
    "\n",
    "\n",
    "___"
   ]
  },
  {
   "cell_type": "markdown",
   "metadata": {},
   "source": [
    "<a id=\"motivation\"></a> <br>\n",
    "## Motivation"
   ]
  }
 ],
 "metadata": {
  "language_info": {
   "name": "python"
  }
 },
 "nbformat": 4,
 "nbformat_minor": 2
}
